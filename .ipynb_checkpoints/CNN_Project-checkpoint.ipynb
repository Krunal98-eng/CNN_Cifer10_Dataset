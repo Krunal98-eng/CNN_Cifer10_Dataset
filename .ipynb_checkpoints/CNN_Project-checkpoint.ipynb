{
 "cells": [
  {
   "cell_type": "code",
   "execution_count": 1,
   "metadata": {
    "id": "59nRImSJvh35"
   },
   "outputs": [],
   "source": [
    "# Importing required Libraries\n",
    "import numpy as np\n",
    "import pandas as pd\n",
    "import matplotlib.pyplot as plt\n"
   ]
  },
  {
   "cell_type": "code",
   "execution_count": 2,
   "metadata": {
    "id": "Q9fHhNMi7L0F"
   },
   "outputs": [],
   "source": [
    "# Importing Tensorflow and Keras\n",
    "import tensorflow as tf\n",
    "from tensorflow import keras"
   ]
  },
  {
   "cell_type": "code",
   "execution_count": 3,
   "metadata": {
    "colab": {
     "base_uri": "https://localhost:8080/",
     "height": 35
    },
    "id": "Y5e8sNMh7fKM",
    "outputId": "d37c5344-e5cb-4b26-ef0b-ade9abb2fe4f"
   },
   "outputs": [
    {
     "data": {
      "application/vnd.google.colaboratory.intrinsic+json": {
       "type": "string"
      },
      "text/plain": [
       "'2.4.1'"
      ]
     },
     "execution_count": 3,
     "metadata": {
      "tags": []
     },
     "output_type": "execute_result"
    }
   ],
   "source": [
    "tf.__version__"
   ]
  },
  {
   "cell_type": "code",
   "execution_count": 4,
   "metadata": {
    "id": "tRmx2xpN9NhC"
   },
   "outputs": [],
   "source": [
    "#Loading Cifar Dataset\n",
    "\n",
    "cifar_dt = keras.datasets.cifar10"
   ]
  },
  {
   "cell_type": "code",
   "execution_count": 5,
   "metadata": {
    "colab": {
     "base_uri": "https://localhost:8080/"
    },
    "id": "g3v70kUX9z0u",
    "outputId": "de652277-441e-4771-a28f-8a4fbc27152c"
   },
   "outputs": [
    {
     "name": "stdout",
     "output_type": "stream",
     "text": [
      "Downloading data from https://www.cs.toronto.edu/~kriz/cifar-10-python.tar.gz\n",
      "170500096/170498071 [==============================] - 2s 0us/step\n"
     ]
    }
   ],
   "source": [
    "#Train - Test on cifar10 dataset\n",
    "(X_train, y_train), (X_test, y_test) = cifar_dt.load_data()"
   ]
  },
  {
   "cell_type": "code",
   "execution_count": 6,
   "metadata": {
    "colab": {
     "base_uri": "https://localhost:8080/"
    },
    "id": "nCZvmhn1-FEX",
    "outputId": "58deca84-4578-4a9f-ab9e-8d0483aac4c9"
   },
   "outputs": [
    {
     "data": {
      "text/plain": [
       "(50000, 32, 32, 3)"
      ]
     },
     "execution_count": 6,
     "metadata": {
      "tags": []
     },
     "output_type": "execute_result"
    }
   ],
   "source": [
    "#Viewing Train Data\n",
    "X_train.shape\n",
    "# 50,000 obs for train set and 32,32, 2  d-pixel  "
   ]
  },
  {
   "cell_type": "code",
   "execution_count": 7,
   "metadata": {
    "colab": {
     "base_uri": "https://localhost:8080/"
    },
    "id": "aZPKXLpO-MfJ",
    "outputId": "65a44442-0e0f-4282-f7d3-c658b7476c19"
   },
   "outputs": [
    {
     "data": {
      "text/plain": [
       "(10000, 32, 32, 3)"
      ]
     },
     "execution_count": 7,
     "metadata": {
      "tags": []
     },
     "output_type": "execute_result"
    }
   ],
   "source": [
    "#Viewing Test Data\n",
    "X_test.shape\n",
    "# 10,000 obs for test set"
   ]
  },
  {
   "cell_type": "code",
   "execution_count": 8,
   "metadata": {
    "id": "NuFWvDLa-ah1"
   },
   "outputs": [],
   "source": [
    "# from these we classes we are going to predict class of our image with help of CNN model\n",
    "class_names = [\"airplane\",\"automobile\",\"bird\",\"cat\",\"deer\",\"dog\",\"frog\",\"horse\",\"ship\",\"truck\"]"
   ]
  },
  {
   "cell_type": "code",
   "execution_count": 9,
   "metadata": {
    "colab": {
     "base_uri": "https://localhost:8080/"
    },
    "id": "qyVPFsPu-9DH",
    "outputId": "e61408cd-a637-4071-b8ea-e4be74070eee"
   },
   "outputs": [
    {
     "data": {
      "text/plain": [
       "array([[6],\n",
       "       [9],\n",
       "       [9],\n",
       "       ...,\n",
       "       [0],\n",
       "       [2],\n",
       "       [6]], dtype=uint8)"
      ]
     },
     "execution_count": 9,
     "metadata": {
      "tags": []
     },
     "output_type": "execute_result"
    }
   ],
   "source": [
    "y_train[:-3]   #We have 2D array we want to convert in 1D array"
   ]
  },
  {
   "cell_type": "code",
   "execution_count": 11,
   "metadata": {
    "colab": {
     "base_uri": "https://localhost:8080/"
    },
    "id": "xuwdIDre_LLL",
    "outputId": "0531d360-f4b4-4672-8b1a-ea32180928d5"
   },
   "outputs": [
    {
     "data": {
      "text/plain": [
       "array([6, 9, 9, ..., 9, 1, 1], dtype=uint8)"
      ]
     },
     "execution_count": 11,
     "metadata": {
      "tags": []
     },
     "output_type": "execute_result"
    }
   ],
   "source": [
    "y_train.reshape(-1,) # Reshaping array to 1D array"
   ]
  },
  {
   "cell_type": "code",
   "execution_count": 12,
   "metadata": {
    "colab": {
     "base_uri": "https://localhost:8080/",
     "height": 229
    },
    "id": "Tqt2n5U8_TwY",
    "outputId": "4185e2f9-000c-4dff-972b-6a321a04879f"
   },
   "outputs": [
    {
     "data": {
      "text/plain": [
       "<matplotlib.image.AxesImage at 0x7facfaa81550>"
      ]
     },
     "execution_count": 12,
     "metadata": {
      "tags": []
     },
     "output_type": "execute_result"
    },
    {
     "data": {
      "image/png": "[encoded data removed]",
      "text/plain": [
       "<Figure size 576x216 with 1 Axes>"
      ]
     },
     "metadata": {
      "needs_background": "light",
      "tags": []
     },
     "output_type": "display_data"
    }
   ],
   "source": [
    "# Viewing our data image form train dataset\n",
    "plt.figure(figsize=(8,3))\n",
    "plt.imshow(X_train[1])\n"
   ]
  },
  {
   "cell_type": "code",
   "execution_count": 13,
   "metadata": {
    "id": "RjOviDSl_jik"
   },
   "outputs": [],
   "source": [
    "# Data-Reshaping is Not Required Since our Input image is already an 3D image\n",
    "\n",
    "#DATA_NORMALIZATION\n",
    "X_train_n = X_train / 255\n",
    "X_test_n = X_test  / 255"
   ]
  },
  {
   "cell_type": "code",
   "execution_count": 14,
   "metadata": {
    "id": "I07TniW_AVTh"
   },
   "outputs": [],
   "source": [
    "# Train-Test-Validation\n",
    "X_valid , X_train = X_train_n[:5000], X_train_n[5000:]\n",
    "y_valid , y_train = y_train[:5000], y_train[5000:]\n",
    "X_test = X_test_n"
   ]
  },
  {
   "cell_type": "code",
   "execution_count": 15,
   "metadata": {
    "id": "hpS_kEADBolc"
   },
   "outputs": [],
   "source": [
    "# Creating A Model, we are taking sequential model over functional model since our data is not complex\n",
    "model = keras.models.Sequential()\n"
   ]
  },
  {
   "cell_type": "code",
   "execution_count": 16,
   "metadata": {
    "id": "Va3xDgZ6B-2U"
   },
   "outputs": [],
   "source": [
    "#Adding 1st Convloutional Layer\n",
    "model.add(keras.layers.Conv2D(filters=32, kernel_size=(3,3), strides= 1, padding= 'valid', activation = 'relu', input_shape =(32,32,3)))\n"
   ]
  },
  {
   "cell_type": "code",
   "execution_count": 17,
   "metadata": {
    "id": "BoxIo0jd_IHB"
   },
   "outputs": [],
   "source": [
    "# Adding 1st Max Pooling Layer\n",
    "model.add(keras.layers.MaxPooling2D((2,2)))"
   ]
  },
  {
   "cell_type": "code",
   "execution_count": 18,
   "metadata": {
    "id": "oaMvXejOY1UQ"
   },
   "outputs": [],
   "source": [
    "# Adding 2nd Convolutional Layer\n",
    "model.add(keras.layers.Conv2D(filters=32, kernel_size= (3,3), strides= 1, padding = 'valid', activation= 'relu', input_shape = (32,32,3)))"
   ]
  },
  {
   "cell_type": "code",
   "execution_count": 19,
   "metadata": {
    "id": "z-0YMnDnZiHN"
   },
   "outputs": [],
   "source": [
    "# Adding 2nd max pooling layer\n",
    "model.add(keras.layers.MaxPooling2D((2,2)))"
   ]
  },
  {
   "cell_type": "code",
   "execution_count": 20,
   "metadata": {
    "id": "cSw2mTVm_dKd"
   },
   "outputs": [],
   "source": [
    "# Adding ANN Layers\n",
    "model.add(keras.layers.Flatten())\n",
    "model.add(keras.layers.Dense(300, activation='relu'))\n",
    "model.add(keras.layers.Dense(150, activation='relu'))\n",
    "model.add(keras.layers.Dense(10, activation = 'softmax'))\n",
    "# since our model has 10 classifier we have to use 10 neurons in softmax Layer"
   ]
  },
  {
   "cell_type": "code",
   "execution_count": 21,
   "metadata": {
    "colab": {
     "base_uri": "https://localhost:8080/"
    },
    "id": "M-nB1TOfAw5W",
    "outputId": "cc4b4d9c-3d2e-49d1-f677-a5cda3e00036"
   },
   "outputs": [
    {
     "name": "stdout",
     "output_type": "stream",
     "text": [
      "Model: \"sequential\"\n",
      "_________________________________________________________________\n",
      "Layer (type)                 Output Shape              Param #   \n",
      "=================================================================\n",
      "conv2d (Conv2D)              (None, 30, 30, 32)        896       \n",
      "_________________________________________________________________\n",
      "max_pooling2d (MaxPooling2D) (None, 15, 15, 32)        0         \n",
      "_________________________________________________________________\n",
      "conv2d_1 (Conv2D)            (None, 13, 13, 32)        9248      \n",
      "_________________________________________________________________\n",
      "max_pooling2d_1 (MaxPooling2 (None, 6, 6, 32)          0         \n",
      "_________________________________________________________________\n",
      "flatten (Flatten)            (None, 1152)              0         \n",
      "_________________________________________________________________\n",
      "dense (Dense)                (None, 300)               345900    \n",
      "_________________________________________________________________\n",
      "dense_1 (Dense)              (None, 150)               45150     \n",
      "_________________________________________________________________\n",
      "dense_2 (Dense)              (None, 10)                1510      \n",
      "=================================================================\n",
      "Total params: 402,704\n",
      "Trainable params: 402,704\n",
      "Non-trainable params: 0\n",
      "_________________________________________________________________\n"
     ]
    }
   ],
   "source": [
    "model.summary()  #summary of our model"
   ]
  },
  {
   "cell_type": "code",
   "execution_count": 22,
   "metadata": {
    "colab": {
     "base_uri": "https://localhost:8080/",
     "height": 856
    },
    "id": "2i6eQKeaAzqm",
    "outputId": "be360ad8-05e5-443b-9ed1-9fb77a345e18"
   },
   "outputs": [
    {
     "data": {
      "image/png": "[encoded data removed]",
      "text/plain": [
       "<IPython.core.display.Image object>"
      ]
     },
     "execution_count": 22,
     "metadata": {
      "tags": []
     },
     "output_type": "execute_result"
    }
   ],
   "source": [
    "# Viewing the Convolutional Layer of our Model\n",
    "keras.utils.plot_model(model)"
   ]
  },
  {
   "cell_type": "code",
   "execution_count": 23,
   "metadata": {
    "id": "oGsFRp_JBAEF"
   },
   "outputs": [],
   "source": [
    "# Compiling Our CNN Model\n",
    "model.compile(loss = 'sparse_categorical_crossentropy',\n",
    "               optimizer = 'sgd',\n",
    "               metrics = ['accuracy'])"
   ]
  },
  {
   "cell_type": "code",
   "execution_count": 24,
   "metadata": {
    "colab": {
     "base_uri": "https://localhost:8080/"
    },
    "id": "F8sjEiPgCRIP",
    "outputId": "492f89ae-0e92-41ab-f1a8-1c24cf22d54d"
   },
   "outputs": [
    {
     "name": "stdout",
     "output_type": "stream",
     "text": [
      "Epoch 1/10\n",
      "1407/1407 [==============================] - 60s 42ms/step - loss: 2.1688 - accuracy: 0.2018 - val_loss: 1.8565 - val_accuracy: 0.3180\n",
      "Epoch 2/10\n",
      "1407/1407 [==============================] - 49s 35ms/step - loss: 1.7138 - accuracy: 0.3844 - val_loss: 1.6394 - val_accuracy: 0.3986\n",
      "Epoch 3/10\n",
      "1407/1407 [==============================] - 50s 35ms/step - loss: 1.4925 - accuracy: 0.4621 - val_loss: 1.5818 - val_accuracy: 0.4412\n",
      "Epoch 4/10\n",
      "1407/1407 [==============================] - 49s 35ms/step - loss: 1.3887 - accuracy: 0.5030 - val_loss: 1.3263 - val_accuracy: 0.5274\n",
      "Epoch 5/10\n",
      "1407/1407 [==============================] - 50s 36ms/step - loss: 1.3025 - accuracy: 0.5371 - val_loss: 1.3017 - val_accuracy: 0.5412\n",
      "Epoch 6/10\n",
      "1407/1407 [==============================] - 50s 35ms/step - loss: 1.2158 - accuracy: 0.5714 - val_loss: 1.4632 - val_accuracy: 0.4884\n",
      "Epoch 7/10\n",
      "1407/1407 [==============================] - 49s 35ms/step - loss: 1.1526 - accuracy: 0.5932 - val_loss: 1.1310 - val_accuracy: 0.6126\n",
      "Epoch 8/10\n",
      "1407/1407 [==============================] - 51s 36ms/step - loss: 1.0712 - accuracy: 0.6252 - val_loss: 1.3211 - val_accuracy: 0.5266\n",
      "Epoch 9/10\n",
      "1407/1407 [==============================] - 50s 36ms/step - loss: 1.0223 - accuracy: 0.6440 - val_loss: 1.1712 - val_accuracy: 0.5822\n",
      "Epoch 10/10\n",
      "1407/1407 [==============================] - 50s 35ms/step - loss: 0.9660 - accuracy: 0.6615 - val_loss: 1.0845 - val_accuracy: 0.6260\n"
     ]
    }
   ],
   "source": [
    "# fitting our model\n",
    "model_history = model.fit(X_train, y_train, epochs = 10,validation_data= (X_valid, y_valid))"
   ]
  },
  {
   "cell_type": "markdown",
   "metadata": {
    "id": "onPF_r9IfUWg"
   },
   "source": [
    "More Accuracy Can be achieved by running more epochs and use batch_size"
   ]
  },
  {
   "cell_type": "code",
   "execution_count": 25,
   "metadata": {
    "colab": {
     "base_uri": "https://localhost:8080/"
    },
    "id": "S7otyVZRGTtM",
    "outputId": "9ca672a4-d417-4b42-a468-5769a4beb3ce"
   },
   "outputs": [
    {
     "name": "stdout",
     "output_type": "stream",
     "text": [
      "313/313 [==============================] - 4s 11ms/step - loss: 1.1042 - accuracy: 0.6120\n"
     ]
    }
   ],
   "source": [
    "# Evaluting and predicting\n",
    "ev = model.evaluate(X_test, y_test)\n",
    "# model accuracy > 50 is good model\n",
    "# we can increase accuracy and reduce loss function by adding another conv2d layer or running more epochs"
   ]
  },
  {
   "cell_type": "code",
   "execution_count": 26,
   "metadata": {
    "colab": {
     "base_uri": "https://localhost:8080/"
    },
    "id": "hGkDlz7LHPAR",
    "outputId": "0e274833-fbbf-4f1e-fbaf-20bae684dce0"
   },
   "outputs": [
    {
     "data": {
      "text/plain": [
       "[1.1041686534881592, 0.6119999885559082]"
      ]
     },
     "execution_count": 26,
     "metadata": {
      "tags": []
     },
     "output_type": "execute_result"
    }
   ],
   "source": [
    "ev"
   ]
  },
  {
   "cell_type": "code",
   "execution_count": 27,
   "metadata": {
    "id": "GM4RrP3IHmQG"
   },
   "outputs": [],
   "source": [
    "# now testing our model\n",
    "X_new = X_test[:3]"
   ]
  },
  {
   "cell_type": "code",
   "execution_count": 28,
   "metadata": {
    "colab": {
     "base_uri": "https://localhost:8080/"
    },
    "id": "Qk2SVncKHwNy",
    "outputId": "ba375f83-11fd-43bc-bfe5-3c74fb6046f5"
   },
   "outputs": [
    {
     "name": "stderr",
     "output_type": "stream",
     "text": [
      "/usr/local/lib/python3.6/dist-packages/tensorflow/python/keras/engine/sequential.py:450: UserWarning: `model.predict_classes()` is deprecated and will be removed after 2021-01-01. Please use instead:* `np.argmax(model.predict(x), axis=-1)`,   if your model does multi-class classification   (e.g. if it uses a `softmax` last-layer activation).* `(model.predict(x) > 0.5).astype(\"int32\")`,   if your model does binary classification   (e.g. if it uses a `sigmoid` last-layer activation).\n",
      "  warnings.warn('`model.predict_classes()` is deprecated and '\n"
     ]
    }
   ],
   "source": [
    "y_pred = model.predict_classes(X_new)"
   ]
  },
  {
   "cell_type": "code",
   "execution_count": 29,
   "metadata": {
    "colab": {
     "base_uri": "https://localhost:8080/"
    },
    "id": "arlJrBxNH25j",
    "outputId": "1db85675-60a9-48a3-a972-865e99b748d0"
   },
   "outputs": [
    {
     "data": {
      "text/plain": [
       "array([3, 8, 8])"
      ]
     },
     "execution_count": 29,
     "metadata": {
      "tags": []
     },
     "output_type": "execute_result"
    }
   ],
   "source": [
    "y_pred"
   ]
  },
  {
   "cell_type": "code",
   "execution_count": 30,
   "metadata": {
    "colab": {
     "base_uri": "https://localhost:8080/"
    },
    "id": "AodBMTQWH6hu",
    "outputId": "05b997f3-0118-4f24-cbe3-dc65cf66cf0f"
   },
   "outputs": [
    {
     "data": {
      "text/plain": [
       "array([[3],\n",
       "       [8],\n",
       "       [8]], dtype=uint8)"
      ]
     },
     "execution_count": 30,
     "metadata": {
      "tags": []
     },
     "output_type": "execute_result"
    }
   ],
   "source": [
    "y_test[:3]   #we can see that our first three predicted Value And Test value are Sae"
   ]
  },
  {
   "cell_type": "code",
   "execution_count": 31,
   "metadata": {
    "colab": {
     "base_uri": "https://localhost:8080/"
    },
    "id": "YqBoDQNeH9pF",
    "outputId": "b5ff7ec4-57ee-4c8e-8521-6cb938d96605"
   },
   "outputs": [
    {
     "data": {
      "text/plain": [
       "array(['cat', 'ship', 'ship'], dtype='<U10')"
      ]
     },
     "execution_count": 31,
     "metadata": {
      "tags": []
     },
     "output_type": "execute_result"
    }
   ],
   "source": [
    "# Viewing Class-name of our predicted Data\n",
    "np.array(class_names)[y_pred]"
   ]
  },
  {
   "cell_type": "code",
   "execution_count": 32,
   "metadata": {
    "colab": {
     "base_uri": "https://localhost:8080/"
    },
    "id": "BaxCdwxYgIDx",
    "outputId": "79280a7e-7271-411d-c526-83e6eb64237b"
   },
   "outputs": [
    {
     "data": {
      "text/plain": [
       "array([['cat'],\n",
       "       ['ship'],\n",
       "       ['ship']], dtype='<U10')"
      ]
     },
     "execution_count": 32,
     "metadata": {
      "tags": []
     },
     "output_type": "execute_result"
    }
   ],
   "source": [
    "# Viewing Class-name of our Test Data\n",
    "np.array(class_names)[y_test[:3]]\n"
   ]
  },
  {
   "cell_type": "code",
   "execution_count": 34,
   "metadata": {
    "colab": {
     "base_uri": "https://localhost:8080/",
     "height": 229
    },
    "id": "nqh3CFVSgYcv",
    "outputId": "3ba4dd04-fe12-4cf5-9e77-9f7cd2957daf"
   },
   "outputs": [
    {
     "name": "stdout",
     "output_type": "stream",
     "text": [
      "AxesImage(72,27;446.4x163.08)\n"
     ]
    },
    {
     "data": {
      "image/png": "[encoded data removed]",
      "text/plain": [
       "<Figure size 576x216 with 1 Axes>"
      ]
     },
     "metadata": {
      "needs_background": "light",
      "tags": []
     },
     "output_type": "display_data"
    }
   ],
   "source": [
    "#printing output\n",
    "plt.figure(figsize=(8,3))\n",
    "print(plt.imshow(X_test[0]))"
   ]
  },
  {
   "cell_type": "code",
   "execution_count": null,
   "metadata": {
    "id": "Kl2l5QNGhQD1"
   },
   "outputs": [],
   "source": []
  }
 ],
 "metadata": {
  "colab": {
   "collapsed_sections": [],
   "name": "CNN Project.ipynb",
   "provenance": []
  },
  "kernelspec": {
   "display_name": "Python 3",
   "language": "python",
   "name": "python3"
  },
  "language_info": {
   "codemirror_mode": {
    "name": "ipython",
    "version": 3
   },
   "file_extension": ".py",
   "mimetype": "text/x-python",
   "name": "python",
   "nbconvert_exporter": "python",
   "pygments_lexer": "ipython3",
   "version": "3.8.5"
  }
 },
 "nbformat": 4,
 "nbformat_minor": 1
}
